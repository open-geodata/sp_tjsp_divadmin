{
 "cells": [
  {
   "attachments": {},
   "cell_type": "markdown",
   "id": "eb4059ce",
   "metadata": {},
   "source": [
    "<br>\n",
    "\n",
    "# RAJs, Circunscrição Judiciária e Comarcas\n",
    "\n",
    "Por meio do site [Quem Somos](https://www.tjsp.jus.br/QuemSomos/QuemSomos/RegioesAdministrativasJudiciarias) raspei as informações\n",
    "\n",
    "<br>\n",
    "\n",
    "Michel Metran\\\n",
    "Data: X.X.2020\\\n",
    "Atualizado em: 18.06.2024\n"
   ]
  },
  {
   "cell_type": "code",
   "execution_count": null,
   "id": "42768fb2",
   "metadata": {},
   "outputs": [],
   "source": [
    "!pip3 install traquitanas"
   ]
  },
  {
   "cell_type": "code",
   "execution_count": 4,
   "id": "8d807595",
   "metadata": {},
   "outputs": [],
   "source": [
    "import pandas as pd\n",
    "from selenium.webdriver.common.by import By\n",
    "\n",
    "from sp_tjsp_divadmin.my_driver import Driver\n",
    "from sp_tjsp_divadmin.my_functions import (\n",
    "    find_text_between_parenthesis,\n",
    "    keep_numbers,\n",
    ")\n",
    "from sp_tjsp_divadmin.my_paths import (\n",
    "    adds_path,\n",
    "    driver_path,\n",
    "    logs_path,\n",
    "    output_path_tab,\n",
    ")"
   ]
  },
  {
   "attachments": {},
   "cell_type": "markdown",
   "id": "2d74b79f",
   "metadata": {},
   "source": [
    "<br>\n",
    "\n",
    "-----\n",
    "\n",
    "## Drivers\n",
    "\n",
    "Inicialmente crio um driver."
   ]
  },
  {
   "cell_type": "code",
   "execution_count": null,
   "id": "a275f28d",
   "metadata": {},
   "outputs": [],
   "source": [
    "driver = Driver(\n",
    "    my_driver_path=driver_path,\n",
    "    my_logs_path=logs_path,\n",
    "    verify_ssl=False,\n",
    ")\n",
    "driver.add_extension_xpath(my_adds_path=adds_path)"
   ]
  },
  {
   "cell_type": "code",
   "execution_count": 6,
   "id": "d1eb9854",
   "metadata": {},
   "outputs": [],
   "source": [
    "# Go TJSP\n",
    "URL = 'https://www.tjsp.jus.br/QuemSomos/QuemSomos/RegioesAdministrativasJudiciarias'\n",
    "driver.get(URL)"
   ]
  },
  {
   "attachments": {},
   "cell_type": "markdown",
   "id": "8fcd63bd",
   "metadata": {},
   "source": [
    "<br>\n",
    "\n",
    "----\n",
    "\n",
    "## RAJs\n",
    "\n",
    "Pego os dados das RAJs"
   ]
  },
  {
   "cell_type": "code",
   "execution_count": 7,
   "id": "4c299e55",
   "metadata": {},
   "outputs": [],
   "source": [
    "def get_rajs_info(raj_xpath):\n",
    "    \"\"\"\n",
    "    Retorna dicionário das Circuncrições Judiciárias\n",
    "\n",
    "    :param raj_xpath: selenium.element\n",
    "    :return: _description_\n",
    "    \"\"\"\n",
    "    # Xpath\n",
    "    raj_nome_xpath = raj_xpath.find_element(\n",
    "        By.XPATH, './/p[@style=\"font-weight: bold\"]'\n",
    "    )\n",
    "    diretor_xpath = raj_nome_xpath.find_element(\n",
    "        By.XPATH, \"./following-sibling::p\"\n",
    "    )\n",
    "    email_xpath = diretor_xpath.find_element(By.XPATH, \"./following-sibling::p\")\n",
    "\n",
    "    return {\n",
    "        'raj_nome': raj_nome_xpath.text,\n",
    "        'juiz_diretor_nome': diretor_xpath.text,\n",
    "        'juiz_diretor_email': email_xpath.text,\n",
    "    }"
   ]
  },
  {
   "cell_type": "code",
   "execution_count": null,
   "id": "758d7170",
   "metadata": {},
   "outputs": [],
   "source": [
    "# Localiza <div> irmã dos \"Juízes Diretores\"\n",
    "juiz_xpath = driver.find_element(By.XPATH, '//*[text()=\"Juízes Diretores\"]//..')\n",
    "print(juiz_xpath.text)"
   ]
  },
  {
   "cell_type": "markdown",
   "id": "b97a0a51",
   "metadata": {},
   "source": [
    "As Comarcas e CJs estão agrupadas em `uls`.\n"
   ]
  },
  {
   "cell_type": "code",
   "execution_count": null,
   "id": "be4226f1",
   "metadata": {},
   "outputs": [],
   "source": [
    "rajs_xpaths = juiz_xpath.find_element(\n",
    "    By.XPATH, './following-sibling::div'\n",
    ").find_elements(By.XPATH, './/div[contains(@style, \"background\")]')\n",
    "\n",
    "print(f'São {len(rajs_xpaths)} RAJs')\n",
    "rajs_xpaths"
   ]
  },
  {
   "cell_type": "code",
   "execution_count": null,
   "id": "bb1779a9",
   "metadata": {},
   "outputs": [],
   "source": [
    "df_raj = pd.DataFrame([get_rajs_info(raj_xpath=x) for x in rajs_xpaths])\n",
    "df_raj"
   ]
  },
  {
   "cell_type": "code",
   "execution_count": null,
   "id": "d476f9b6",
   "metadata": {},
   "outputs": [],
   "source": [
    "# Adjust Data\n",
    "df_raj['raj_nome'] = df_raj['raj_nome'].str.replace('–', '-')\n",
    "df_raj['raj_nome'] = df_raj['raj_nome'].str.strip()\n",
    "df_raj[['raj_sigla', 'raj_regiao']] = df_raj['raj_nome'].str.split(\n",
    "    ' - ', expand=True\n",
    ")\n",
    "\n",
    "# Números\n",
    "df_raj['id_raj'] = df_raj['raj_sigla'].apply(lambda x: keep_numbers(x))\n",
    "df_raj['id_raj'] = df_raj['id_raj'].astype(int)\n",
    "\n",
    "# Nome do Diretor\n",
    "df_raj['juiz_diretor_nome'] = (\n",
    "    df_raj['juiz_diretor_nome']\n",
    "    .replace('Juiza diretora: ', '', regex=True)\n",
    "    .replace('Juíza diretora: ', '', regex=True)\n",
    "    .replace('Juiz diretor: ', '', regex=True)\n",
    ")\n",
    "df_raj['juiz_diretor_nome'] = df_raj['juiz_diretor_nome'].str.strip()\n",
    "\n",
    "# Email do Diretor\n",
    "df_raj['juiz_diretor_email'] = df_raj['juiz_diretor_email'].apply(\n",
    "    lambda x: find_text_between_parenthesis(x)\n",
    ")\n",
    "df_raj['juiz_diretor_email'] = df_raj['juiz_diretor_email'].str.strip()\n",
    "\n",
    "# Ordenação\n",
    "df_raj = df_raj.sort_values(by='id_raj', ascending=True)\n",
    "df_raj = df_raj.reset_index(drop=True)\n",
    "\n",
    "# Results\n",
    "df_raj.info()\n",
    "df_raj.head()"
   ]
  },
  {
   "cell_type": "code",
   "execution_count": null,
   "id": "51b1eb7e",
   "metadata": {},
   "outputs": [],
   "source": [
    "df_raj = df_raj[\n",
    "    [\n",
    "        # RAJ\n",
    "        'id_raj',\n",
    "        'raj_nome',\n",
    "        'raj_sigla',\n",
    "        'raj_regiao',\n",
    "        'juiz_diretor_nome',\n",
    "        'juiz_diretor_email',\n",
    "    ]\n",
    "]\n",
    "df_raj"
   ]
  },
  {
   "cell_type": "code",
   "execution_count": null,
   "id": "319ad402",
   "metadata": {},
   "outputs": [],
   "source": [
    "df_raj = df_raj.drop_duplicates()\n",
    "df_raj = df_raj.sort_values(by='id_raj')\n",
    "df_raj = df_raj.reset_index(drop=True)\n",
    "display(df_raj.head())"
   ]
  },
  {
   "cell_type": "code",
   "execution_count": 14,
   "id": "f9682971",
   "metadata": {},
   "outputs": [],
   "source": [
    "filename = 'RAJs'\n",
    "\n",
    "df_raj.to_csv(\n",
    "    output_path_tab / f'{filename}.csv',\n",
    "    index=False,\n",
    ")\n",
    "\n",
    "df_raj.to_excel(\n",
    "    output_path_tab / f'{filename}.xlsx',\n",
    "    index=False,\n",
    "    sheet_name=f'{filename}',\n",
    ")"
   ]
  },
  {
   "cell_type": "markdown",
   "id": "2f237eff",
   "metadata": {},
   "source": [
    "<br>\n",
    "\n",
    "---\n",
    "\n",
    "## Comarcas e CJs\n"
   ]
  },
  {
   "cell_type": "code",
   "execution_count": 15,
   "id": "7ab0dadc",
   "metadata": {},
   "outputs": [],
   "source": [
    "list_dfs = []\n",
    "for raj in rajs_xpaths:\n",
    "    # Para cada RAJ, pega Comarcas e CJs\n",
    "    comarcas_xpath = raj.find_element(\n",
    "        By.XPATH, './following-sibling::ul'\n",
    "    ).find_elements(By.XPATH, './li')\n",
    "\n",
    "    # Cria tabela\n",
    "    df_comarcas = pd.DataFrame(\n",
    "        [x.text for x in comarcas_xpath], columns=['comarca_cirscunscricao']\n",
    "    )\n",
    "    df_comarcas['raj_nome'] = get_rajs_info(raj_xpath=raj)['raj_nome']\n",
    "    list_dfs.append(df_comarcas)"
   ]
  },
  {
   "cell_type": "code",
   "execution_count": null,
   "id": "c4cc98e0",
   "metadata": {},
   "outputs": [],
   "source": [
    "# Create Table\n",
    "# df = pd.DataFrame(list_dfs)\n",
    "df = pd.concat(list_dfs, ignore_index=True)\n",
    "\n",
    "# Results\n",
    "df.info()\n",
    "df.head()"
   ]
  },
  {
   "cell_type": "code",
   "execution_count": null,
   "id": "27e29c2e",
   "metadata": {},
   "outputs": [],
   "source": [
    "# Adjust Data\n",
    "df['raj_nome'] = df['raj_nome'].str.replace('–', '-')\n",
    "df[['raj_sigla', 'raj_regiao']] = df['raj_nome'].str.split(' - ', expand=True)\n",
    "df[['comarca', 'cj_sigla']] = df['comarca_cirscunscricao'].str.split(\n",
    "    ' - ', expand=True\n",
    ")\n",
    "\n",
    "# Números\n",
    "df['id_raj'] = df['raj_sigla'].apply(lambda x: keep_numbers(x))\n",
    "df['id_raj'] = df['id_raj'].astype(int)\n",
    "\n",
    "df['id_cj'] = df['cj_sigla'].apply(lambda x: keep_numbers(x))\n",
    "df.loc[df['id_cj'] == '', 'id_cj'] = '0'\n",
    "df['id_cj'] = df['id_cj'].astype(int)\n",
    "\n",
    "# Results\n",
    "df.info()\n",
    "df.head()"
   ]
  },
  {
   "cell_type": "code",
   "execution_count": null,
   "id": "f2e1fb71",
   "metadata": {},
   "outputs": [],
   "source": [
    "df['cj_nome'] = df['cj_sigla'].replace(\n",
    "    'CJ', 'Circunscrição Judiciária', regex=True\n",
    ")\n",
    "\n",
    "# Results\n",
    "df.info()\n",
    "df.head()"
   ]
  },
  {
   "cell_type": "code",
   "execution_count": null,
   "id": "2c532438",
   "metadata": {},
   "outputs": [],
   "source": [
    "df = df[\n",
    "    [\n",
    "        # RAJ\n",
    "        'id_raj',\n",
    "        'raj_nome',\n",
    "        'raj_sigla',\n",
    "        'raj_regiao',\n",
    "        #'juiz_diretor',\n",
    "        #'email',\n",
    "        # CJ\n",
    "        'id_cj',\n",
    "        'cj_nome',\n",
    "        'cj_sigla',\n",
    "        # Comarca\n",
    "        'comarca',\n",
    "    ]\n",
    "]\n",
    "\n",
    "# Results\n",
    "df.info()\n",
    "df.head()"
   ]
  },
  {
   "cell_type": "markdown",
   "id": "2bcf334d",
   "metadata": {},
   "source": [
    "<br>\n",
    "\n",
    "\n",
    "----\n",
    "\n",
    "## CJs\n"
   ]
  },
  {
   "cell_type": "code",
   "execution_count": null,
   "id": "3592cb4b",
   "metadata": {},
   "outputs": [],
   "source": [
    "df_cjs = df[\n",
    "    [\n",
    "        # CJ\n",
    "        'id_cj',\n",
    "        'cj_nome',\n",
    "        'cj_sigla',\n",
    "        'id_raj',\n",
    "    ]\n",
    "]\n",
    "\n",
    "# df_cjs.loc[df_cjs['cj_id'] == '', 'cj_id'] = '0'\n",
    "# df_cjs['cj_id'] = df_cjs['cj_id'].copy()\n",
    "# df_cjs['cj_id'] = df_cjs['cj_id'].astype('int')\n",
    "df_cjs = df_cjs.drop_duplicates()\n",
    "df_cjs = df_cjs.sort_values(by='id_cj')\n",
    "df_cjs = df_cjs.reset_index(drop=True)\n",
    "\n",
    "# Results\n",
    "df_cjs.head()\n",
    "df_cjs.info()"
   ]
  },
  {
   "cell_type": "code",
   "execution_count": 21,
   "id": "97b3c3d7",
   "metadata": {},
   "outputs": [],
   "source": [
    "filename = 'Circunscrições Judiciárias'\n",
    "\n",
    "df_cjs.to_csv(\n",
    "    output_path_tab / f'{filename}.csv',\n",
    "    index=False,\n",
    ")\n",
    "\n",
    "df_cjs.to_excel(\n",
    "    output_path_tab / f'{filename}.xlsx',\n",
    "    sheet_name=f'{filename}',\n",
    "    index=False,\n",
    ")"
   ]
  },
  {
   "cell_type": "markdown",
   "id": "fab106df",
   "metadata": {},
   "source": [
    "<br>\n",
    "\n",
    "----\n",
    "\n",
    "## Comarcas\n"
   ]
  },
  {
   "cell_type": "code",
   "execution_count": null,
   "id": "05510a93",
   "metadata": {},
   "outputs": [],
   "source": [
    "df_comarca = df[\n",
    "    [\n",
    "        # Comarca\n",
    "        'comarca',\n",
    "        'id_cj',\n",
    "    ]\n",
    "]\n",
    "\n",
    "# Deleta Duplicatas\n",
    "df_comarca = df_comarca.drop_duplicates()\n",
    "\n",
    "# Renomear\n",
    "df_comarca = df_comarca.rename(\n",
    "    {\n",
    "        'comarca': 'comarca_tjsp',\n",
    "    },\n",
    "    axis='columns',\n",
    ")\n",
    "\n",
    "# Ordena\n",
    "df_comarca = df_comarca.iloc[\n",
    "    df_comarca['comarca_tjsp'].str.normalize('NFKD').argsort()\n",
    "]\n",
    "df_comarca = df_comarca.reset_index(drop=True)\n",
    "\n",
    "# Results\n",
    "df_comarca.head()\n",
    "df_comarca.info()"
   ]
  },
  {
   "cell_type": "code",
   "execution_count": 23,
   "id": "f94d81cd",
   "metadata": {},
   "outputs": [],
   "source": [
    "filename = 'Comarcas e CJs'\n",
    "\n",
    "df_comarca.to_csv(\n",
    "    output_path_tab / f'{filename}.csv',\n",
    "    index=False,\n",
    ")\n",
    "\n",
    "df_comarca.to_excel(\n",
    "    output_path_tab / f'{filename}.xlsx',\n",
    "    index=False,\n",
    "    sheet_name=f'{filename}',\n",
    ")"
   ]
  },
  {
   "cell_type": "code",
   "execution_count": null,
   "id": "f89575c0",
   "metadata": {},
   "outputs": [],
   "source": [
    "comarcas = df['comarca']\n",
    "\n",
    "print(f'São {len(set(comarcas))} comarcas')"
   ]
  },
  {
   "cell_type": "code",
   "execution_count": 25,
   "id": "ed850899",
   "metadata": {},
   "outputs": [],
   "source": [
    "driver.quit()"
   ]
  },
  {
   "cell_type": "code",
   "execution_count": null,
   "id": "08e07558",
   "metadata": {},
   "outputs": [],
   "source": []
  }
 ],
 "metadata": {
  "kernelspec": {
   "display_name": "pablocarreira-lastest",
   "language": "python",
   "name": "python3"
  },
  "language_info": {
   "codemirror_mode": {
    "name": "ipython",
    "version": 3
   },
   "file_extension": ".py",
   "mimetype": "text/x-python",
   "name": "python",
   "nbconvert_exporter": "python",
   "pygments_lexer": "ipython3",
   "version": "3.11.10"
  }
 },
 "nbformat": 4,
 "nbformat_minor": 5
}
