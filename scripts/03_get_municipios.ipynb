{
 "cells": [
  {
   "attachments": {},
   "cell_type": "markdown",
   "metadata": {},
   "source": [
    "<br>\n",
    "\n",
    "# Municípios e Comarcas\n",
    "\n",
    "Por meio do _site_ [ListaTelefonica](https://www.tjsp.jus.br/ListaTelefonica) foi possível relevar as APIs que operam e fazer diversas pesquisas.\n",
    "\n",
    "<br>\n",
    "\n",
    "Michel Metran\\\n",
    "Data: 18.06.2024\\\n",
    "Atualizado em: 18.06.2024\n"
   ]
  },
  {
   "cell_type": "code",
   "execution_count": 1,
   "metadata": {},
   "outputs": [],
   "source": [
    "#!pip3 install open_geodata\n",
    "#!pip3 install requests_ip_rotator"
   ]
  },
  {
   "cell_type": "code",
   "execution_count": 2,
   "metadata": {},
   "outputs": [],
   "source": [
    "import concurrent\n",
    "import os\n",
    "\n",
    "import pandas as pd\n",
    "import requests\n",
    "from dotenv import load_dotenv\n",
    "from open_geodata import geo\n",
    "from requests_ip_rotator import ApiGateway\n",
    "\n",
    "from sp_tjsp_divadmin.my_paths import output_path_tab"
   ]
  },
  {
   "cell_type": "code",
   "execution_count": 2,
   "metadata": {},
   "outputs": [],
   "source": [
    "# import pprint\n",
    "# import re\n",
    "# from typing import Literal\n",
    "\n",
    "# import numpy as np\n",
    "# from bs4 import BeautifulSoup\n",
    "# from more_itertools import one\n",
    "\n",
    "# from sp_tjsp_divadmin.my_functions import (\n",
    "#     find_text_between_parenthesis,\n",
    "#     keep_numbers,\n",
    "#     remove_accents,\n",
    "#     strip_accents,\n",
    "# )"
   ]
  },
  {
   "cell_type": "markdown",
   "metadata": {},
   "source": [
    "<br>\n",
    "\n",
    "\n",
    "----\n",
    "\n",
    "## Credenciais"
   ]
  },
  {
   "cell_type": "code",
   "execution_count": null,
   "metadata": {},
   "outputs": [],
   "source": [
    "load_dotenv()\n",
    "\n",
    "aws_access_key_id = os.getenv('AWS_ACCESS_KEY_ID')\n",
    "aws_secret_access_key = os.getenv('AWS_SECRET_ACCESS_KEY')"
   ]
  },
  {
   "attachments": {},
   "cell_type": "markdown",
   "metadata": {},
   "source": [
    "<br>\n",
    "\n",
    "---\n",
    "\n",
    "## Lista de Municípios\n"
   ]
  },
  {
   "cell_type": "markdown",
   "metadata": {},
   "source": [
    "Criamos função que pega o nome e Código do Município, de acordo com o TJSP.\n"
   ]
  },
  {
   "cell_type": "code",
   "execution_count": 4,
   "metadata": {},
   "outputs": [],
   "source": [
    "def get_lista_municipios_tjsp(municipio):\n",
    "    \"\"\"\n",
    "    Pesquisa de municípios a partir de alguns caracteres.\n",
    "    A função sempre retorna 10 itens.\n",
    "    A cada caractere, o número de registros afunila!\n",
    "\n",
    "    Exemplo de uso:\n",
    "    df = get_lista_municipios_tjsp('Santos')\n",
    "\n",
    "    :param municipio: _description_\n",
    "    :type municipio: _type_\n",
    "    :raises Exception: _description_\n",
    "    \"\"\"\n",
    "    if len(municipio) < 3:\n",
    "        raise Exception('A pesquisa de município deve ter mais de 3 caracteres')\n",
    "\n",
    "    r = requests.post(\n",
    "        'https://www.tjsp.jus.br/AutoComplete/ListarMunicipios',\n",
    "        json={'texto': municipio},\n",
    "    )\n",
    "    if r.json() == 'listaVazia':\n",
    "        pass\n",
    "\n",
    "    else:\n",
    "        df = pd.DataFrame(r.json())\n",
    "        df = df.rename(\n",
    "            mapper={\n",
    "                'Codigo': 'id_municipio_tjsp',\n",
    "                'Descricao': 'municipio_tjsp',\n",
    "            },\n",
    "            axis='columns',\n",
    "        )\n",
    "        return df"
   ]
  },
  {
   "cell_type": "markdown",
   "metadata": {},
   "source": [
    "Para termos um input para a função, que é necessário inserir parte do nome, usamos os nomes dos municípios.\n"
   ]
  },
  {
   "cell_type": "code",
   "execution_count": null,
   "metadata": {},
   "outputs": [],
   "source": [
    "# Cria Lista\n",
    "df_geo_mun = geo.load_dataset('tab.sp.tab_municipio_nome')\n",
    "lista_municipios = list(df_geo_mun['municipio_nome'])\n",
    "lista_municipios[0:5]"
   ]
  },
  {
   "cell_type": "code",
   "execution_count": null,
   "metadata": {},
   "outputs": [],
   "source": [
    "# Apenas para Testes\n",
    "get_lista_municipios_tjsp(municipio='Sant')"
   ]
  },
  {
   "attachments": {},
   "cell_type": "markdown",
   "metadata": {},
   "source": [
    "<br>\n",
    "\n",
    "Obtive o município com maior número de caracteres, visto que a função do método POST sempre lista apenas 10 municípios...\n"
   ]
  },
  {
   "cell_type": "code",
   "execution_count": null,
   "metadata": {},
   "outputs": [],
   "source": [
    "n_caracteres_mun_max = max([len(x) for x in lista_municipios])\n",
    "n_caracteres_mun_max"
   ]
  },
  {
   "attachments": {},
   "cell_type": "markdown",
   "metadata": {},
   "source": [
    "<br>\n",
    "\n",
    "Uma vez com a função que retorna os municípios escrita, fiz uma iteração por todos os trechos de nomes de municípios. Para cada municípios foi pesquisado diversas vezes, incrementando o número de caracteres. Por exemplos, o município de Santos foi pesquisado:\n",
    "\n",
    "- San\n",
    "- Sant\n",
    "- Santo\n",
    "- Santos\n",
    "\n",
    "<br>\n",
    "\n",
    "Isso garantiu que todos os municípios foram \"raspados\".\n"
   ]
  },
  {
   "cell_type": "code",
   "execution_count": null,
   "metadata": {},
   "outputs": [],
   "source": [
    "# list_dfs = []\n",
    "list_termos = []\n",
    "for i in range(n_caracteres_mun_max)[3:]:\n",
    "    lista_municipios_temp = list(\n",
    "        set([mun[:i] for mun in lista_municipios if len(mun) >= i])\n",
    "    )\n",
    "    for search_text in lista_municipios_temp:\n",
    "        list_termos.append(search_text)\n",
    "\n",
    "\n",
    "list_termos = list(set(list_termos))\n",
    "print(f'São {len(list_termos)} termos para pesquisa')"
   ]
  },
  {
   "cell_type": "markdown",
   "metadata": {},
   "source": [
    "Descobri uma maneira de paralelizar as consultas.\\\n",
    "Antes eu levava cerca de 40 minutos para rodar. Agora consigo fazer com 7 minutos.\n",
    "\n",
    "É possível ainda deixar mais rápido, utilizando a API da AWS.\n"
   ]
  },
  {
   "cell_type": "code",
   "execution_count": null,
   "metadata": {},
   "outputs": [],
   "source": [
    "MAX_THREADS = 5\n",
    "\n",
    "with concurrent.futures.ThreadPoolExecutor(max_workers=MAX_THREADS) as executor:\n",
    "    temp = executor.map(get_lista_municipios_tjsp, list_termos)\n",
    "    df_tjsp = pd.concat(list(temp), ignore_index=True)\n",
    "\n",
    "# Resultados\n",
    "df_tjsp.info()\n",
    "df_tjsp.head()"
   ]
  },
  {
   "cell_type": "markdown",
   "metadata": {},
   "source": [
    "Aqui com AWS\n"
   ]
  },
  {
   "cell_type": "code",
   "execution_count": null,
   "metadata": {},
   "outputs": [],
   "source": [
    "# Cria Gateway\n",
    "gateway = ApiGateway(\n",
    "    site='https://www.tjsp.jus.br',\n",
    "    access_key_id=aws_access_key_id,\n",
    "    access_key_secret=aws_secret_access_key,\n",
    "    regions=['sa-east-1'],\n",
    "    verbose=True,\n",
    ")\n",
    "gateway.pool_connections = 5\n",
    "gateway.pool_maxsize = 5\n",
    "gateway.start()\n",
    "\n",
    "# Cria Session\n",
    "session = requests.Session()\n",
    "session.mount(prefix='https://www.tjsp.jus.br', adapter=gateway)\n",
    "\n",
    "# Parameters\n",
    "MAX_THREADS = 4\n",
    "list_dfs = []\n",
    "list_futures = []\n",
    "\n",
    "# Em 23.01.2025 tentei o uso do API\n",
    "for term in list_termos:\n",
    "    print(term)\n",
    "    df = get_lista_municipios_tjsp(municipio=term)\n",
    "    list_dfs.append(df)\n",
    "\n",
    "# Paralelo\n",
    "# with concurrent.futures.ThreadPoolExecutor(max_workers=MAX_THREADS) as executor:\n",
    "#     # Cria Lista de Tarefas\n",
    "#     for term in list_termos:\n",
    "#         futures = executor.submit(get_lista_municipios_tjsp, term)\n",
    "#         list_futures.append(futures)\n",
    "\n",
    "#     # Executa Lista de Tarefas\n",
    "#     for future in concurrent.futures.as_completed(list_futures):\n",
    "#         print(future.result())\n",
    "#         list_dfs.append(future.result())\n",
    "\n",
    "# Encerra o worker\n",
    "gateway.shutdown()\n",
    "\n",
    "# Crio a tabela\n",
    "df_tjsp = pd.concat(list_dfs, ignore_index=True)"
   ]
  },
  {
   "cell_type": "markdown",
   "metadata": {},
   "source": [
    "Ajusto a tabela criada\n"
   ]
  },
  {
   "cell_type": "code",
   "execution_count": null,
   "metadata": {},
   "outputs": [],
   "source": [
    "# Ajusta a tabela\n",
    "df_tjsp = df_tjsp.drop_duplicates()\n",
    "df_tjsp = df_tjsp.sort_values(by='municipio_tjsp')\n",
    "df_tjsp = df_tjsp.iloc[\n",
    "    df_tjsp['municipio_tjsp'].str.normalize('NFKD').argsort()\n",
    "]\n",
    "df_tjsp = df_tjsp.reset_index(drop=True)\n",
    "\n",
    "# Resultados\n",
    "df_tjsp.info()\n",
    "df_tjsp.head()"
   ]
  },
  {
   "cell_type": "code",
   "execution_count": 15,
   "metadata": {},
   "outputs": [],
   "source": [
    "if len(df_tjsp) != 645:\n",
    "    raise Exception('Falta Município!')"
   ]
  },
  {
   "cell_type": "code",
   "execution_count": 16,
   "metadata": {},
   "outputs": [],
   "source": [
    "filename = 'Municipios'\n",
    "\n",
    "# Salva\n",
    "df_tjsp.to_csv(output_path_tab / f'{filename}.csv', index=False)\n",
    "df_tjsp.to_excel(\n",
    "    output_path_tab / f'{filename}.xlsx', sheet_name=f'{filename}', index=False\n",
    ")"
   ]
  },
  {
   "cell_type": "markdown",
   "metadata": {},
   "source": [
    "<br>\n",
    "\n",
    "---\n",
    "\n",
    "## Análise dos Nomes dos Municípios\n",
    "\n",
    "A ideia principal é agregar os códigos do IBGE na tabela. Para isso eu fiz um join... vi os erros... e corrigi!\n"
   ]
  },
  {
   "cell_type": "code",
   "execution_count": null,
   "metadata": {},
   "outputs": [],
   "source": [
    "# Read Data\n",
    "df_tjsp = pd.read_csv(output_path_tab / 'Municipios.csv')\n",
    "\n",
    "# Results\n",
    "df_tjsp.info()\n",
    "df_tjsp.head()"
   ]
  },
  {
   "cell_type": "markdown",
   "metadata": {},
   "source": [
    "<br>\n",
    "\n",
    "Peguei a tabela padrão, que fiz!, no projeto do OpenGeo!\n"
   ]
  },
  {
   "cell_type": "code",
   "execution_count": null,
   "metadata": {},
   "outputs": [],
   "source": [
    "df_geo_mun = geo.load_dataset('tab.sp.tab_municipio_nome')\n",
    "df_geo_mun.head()\n",
    "df_geo_mun.info()"
   ]
  },
  {
   "cell_type": "markdown",
   "metadata": {},
   "source": [
    "<br>\n",
    "\n",
    "Juntei\n"
   ]
  },
  {
   "cell_type": "code",
   "execution_count": null,
   "metadata": {},
   "outputs": [],
   "source": [
    "# Merge\n",
    "df_merged = pd.merge(\n",
    "    left=df_geo_mun,\n",
    "    right=df_tjsp,\n",
    "    left_on='municipio_nome',\n",
    "    right_on='municipio_tjsp',\n",
    "    how='left',\n",
    ")\n",
    "\n",
    "# Encontre erros\n",
    "df_merged[df_merged['municipio_tjsp'].isnull()]"
   ]
  },
  {
   "cell_type": "code",
   "execution_count": null,
   "metadata": {},
   "outputs": [],
   "source": [
    "# Fiz apenas consultas, para ver como está escrito no TJSP\n",
    "df_tjsp[df_tjsp['municipio_tjsp'].str.startswith('Estrela')]\n",
    "df_tjsp[df_tjsp['municipio_tjsp'].str.startswith('Luís')]\n",
    "df_tjsp[df_tjsp['municipio_tjsp'].str.startswith('Florí')]"
   ]
  },
  {
   "cell_type": "markdown",
   "metadata": {},
   "source": [
    "<br>\n",
    "\n",
    "Uma vez que sei os erros dos nomes e são apenas 3 registros...\n",
    "Criei uma coluna duplicada para corrigir!\n"
   ]
  },
  {
   "cell_type": "code",
   "execution_count": 21,
   "metadata": {},
   "outputs": [],
   "source": [
    "df_tjsp['municipio_corrigido'] = df_tjsp['municipio_tjsp']\n",
    "\n",
    "# Ajuste os Valores Errados\n",
    "df_tjsp['municipio_corrigido'] = df_tjsp['municipio_corrigido'].replace(\n",
    "    {\n",
    "        'Estrela dOeste': \"Estrela d'Oeste\",\n",
    "        'Luís Antônio': 'Luiz Antônio',\n",
    "        'Florínia': 'Florínea',\n",
    "    }\n",
    ")"
   ]
  },
  {
   "cell_type": "code",
   "execution_count": null,
   "metadata": {},
   "outputs": [],
   "source": [
    "# Checa se foi substituido na coluna \"Nome Corrigido\"\n",
    "df_tjsp[df_tjsp['municipio_corrigido'].str.startswith('Florí')]"
   ]
  },
  {
   "cell_type": "markdown",
   "metadata": {},
   "source": [
    "<br>\n",
    "\n",
    "Por fim, checo novamente e vejo que não tem mais nada nulo! Excelente!\n"
   ]
  },
  {
   "cell_type": "code",
   "execution_count": null,
   "metadata": {},
   "outputs": [],
   "source": [
    "df_merged = pd.merge(\n",
    "    left=df_geo_mun,\n",
    "    right=df_tjsp,\n",
    "    left_on='municipio_nome',\n",
    "    right_on='municipio_corrigido',\n",
    "    how='left',\n",
    ")\n",
    "\n",
    "# Confere se há algum erro\n",
    "df_temp = df_merged[df_merged['municipio_tjsp'].isnull()]\n",
    "if len(df_temp):\n",
    "    raise Exception('Deu ruim')\n",
    "\n",
    "# Results\n",
    "df_merged.info()\n",
    "df_merged.head()"
   ]
  },
  {
   "cell_type": "code",
   "execution_count": null,
   "metadata": {},
   "outputs": [],
   "source": [
    "# Merge\n",
    "df_merged = df_merged.drop(\n",
    "    labels='municipio_nome', axis='columns', inplace=False, errors='ignore'\n",
    ")\n",
    "\n",
    "# Results\n",
    "df_merged.info()\n",
    "df_merged.head()"
   ]
  },
  {
   "cell_type": "code",
   "execution_count": 25,
   "metadata": {},
   "outputs": [],
   "source": [
    "filename = 'Municipios'\n",
    "\n",
    "# Salva\n",
    "df_merged.to_csv(output_path_tab / f'{filename}.csv', index=False)\n",
    "df_merged.to_excel(\n",
    "    output_path_tab / f'{filename}.xlsx', sheet_name=f'{filename}', index=False\n",
    ")"
   ]
  },
  {
   "cell_type": "code",
   "execution_count": null,
   "metadata": {},
   "outputs": [],
   "source": []
  }
 ],
 "metadata": {
  "kernelspec": {
   "display_name": "pablocarreira-lastest",
   "language": "python",
   "name": "python3"
  },
  "language_info": {
   "codemirror_mode": {
    "name": "ipython",
    "version": 3
   },
   "file_extension": ".py",
   "mimetype": "text/x-python",
   "name": "python",
   "nbconvert_exporter": "python",
   "pygments_lexer": "ipython3",
   "version": "3.11.10"
  }
 },
 "nbformat": 4,
 "nbformat_minor": 2
}
